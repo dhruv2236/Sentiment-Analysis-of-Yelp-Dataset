{
 "cells": [
  {
   "cell_type": "code",
   "execution_count": 39,
   "metadata": {},
   "outputs": [],
   "source": [
    "import pandas as pd\n",
    "import numpy as np\n",
    "import matplotlib.pyplot as plt\n",
    "import seaborn as sns\n",
    "import nltk\n",
    "from nltk.corpus import stopwords\n",
    "from sklearn.metrics import accuracy_score, precision_score, recall_score, f1_score, confusion_matrix\n",
    "from sklearn.model_selection import train_test_split"
   ]
  },
  {
   "cell_type": "code",
   "execution_count": 40,
   "metadata": {},
   "outputs": [],
   "source": [
    "from nltk.stem import WordNetLemmatizer\n",
    "wordnet_lemmatizer = WordNetLemmatizer()"
   ]
  },
  {
   "cell_type": "code",
   "execution_count": 41,
   "metadata": {},
   "outputs": [
    {
     "data": {
      "text/plain": [
       "(5261668, 9)"
      ]
     },
     "execution_count": 41,
     "metadata": {},
     "output_type": "execute_result"
    }
   ],
   "source": [
    "#read the csv file and print the shape of the dataset\n",
    "yelp = pd.read_csv(\"C:/Users/Rikul/Desktop/Data Mining/Data Mining Project/archive/yelp.csv\")\n",
    "yelp.shape"
   ]
  },
  {
   "cell_type": "code",
   "execution_count": 42,
   "metadata": {},
   "outputs": [
    {
     "data": {
      "text/plain": [
       "(5261668, 9)"
      ]
     },
     "execution_count": 42,
     "metadata": {},
     "output_type": "execute_result"
    }
   ],
   "source": [
    "#drop all the rows with NaN\n",
    "yelp = yelp.dropna()\n",
    "yelp.shape"
   ]
  },
  {
   "cell_type": "code",
   "execution_count": 43,
   "metadata": {},
   "outputs": [
    {
     "data": {
      "text/plain": [
       "<seaborn.axisgrid.FacetGrid at 0x197b8bbc310>"
      ]
     },
     "execution_count": 43,
     "metadata": {},
     "output_type": "execute_result"
    },
    {
     "data": {
      "image/png": "[encoded data removed]",
      "text/plain": [
       "<Figure size 1080x216 with 5 Axes>"
      ]
     },
     "metadata": {
      "needs_background": "light"
     },
     "output_type": "display_data"
    }
   ],
   "source": [
    "#add one more column to find out the relation between length vs number of reviews vs stars\n",
    "yelp['text_len'] = yelp['text'].apply(len)\n",
    "g = sns.FacetGrid(data=yelp, col='stars')\n",
    "g.map(plt.hist, 'text_len', bins=50)"
   ]
  },
  {
   "cell_type": "code",
   "execution_count": 44,
   "metadata": {},
   "outputs": [],
   "source": [
    "#This shuffles the data which help us to get the random tuple each time\n",
    "from sklearn.utils import shuffle\n",
    "yelp = shuffle(yelp)"
   ]
  },
  {
   "cell_type": "code",
   "execution_count": 45,
   "metadata": {},
   "outputs": [],
   "source": [
    "#Defined two list for getting the postitives and negative reviews\n",
    "positive_reviews = []\n",
    "negative_reviews = []"
   ]
  },
  {
   "cell_type": "code",
   "execution_count": 46,
   "metadata": {},
   "outputs": [
    {
     "name": "stdout",
     "output_type": "stream",
     "text": [
      "1600\n"
     ]
    }
   ],
   "source": [
    "#Get the 1600 positive reviews\n",
    "p_counter = 0\n",
    "index = 0\n",
    "while p_counter != 1600:\n",
    "    st = yelp['stars'][index]\n",
    "    if (st == 5):\n",
    "        positive_reviews.append(yelp['text'][index])\n",
    "        p_counter = p_counter + 1\n",
    "    index = index + 1\n",
    "print(len(positive_reviews))"
   ]
  },
  {
   "cell_type": "code",
   "execution_count": 47,
   "metadata": {},
   "outputs": [
    {
     "name": "stdout",
     "output_type": "stream",
     "text": [
      "1600\n"
     ]
    }
   ],
   "source": [
    "#Get the 1600 negative reviews\n",
    "n_counter = 0\n",
    "index = 0\n",
    "while n_counter != 1600:\n",
    "    st = yelp['stars'][index]\n",
    "    if(st == 1 or st == 2):\n",
    "        negative_reviews.append(yelp['text'][index])\n",
    "        n_counter = n_counter + 1\n",
    "    index = index + 1\n",
    "print(len(negative_reviews))"
   ]
  },
  {
   "cell_type": "code",
   "execution_count": 48,
   "metadata": {},
   "outputs": [],
   "source": [
    "#Tokenizer which tokenise the text into works and clean the data to prepare for NLP\n",
    "def my_tokenizer(text):\n",
    "    text = text.lower() # downcase\n",
    "    tokens = nltk.tokenize.word_tokenize(text) # split string into words (tokens)\n",
    "    tokens = [t for t in tokens if len(t) > 2] # remove short words, they're probably not useful (punctuation)\n",
    "    tokens = [wordnet_lemmatizer.lemmatize(t) for t in tokens] # put words into base form\n",
    "    tokens = [t for t in tokens if t not in stopwords.words('english')] # remove stopwords    \n",
    "    return tokens"
   ]
  },
  {
   "cell_type": "code",
   "execution_count": 49,
   "metadata": {},
   "outputs": [],
   "source": [
    "#Dictionary and list defination for further use\n",
    "word_index_map = {}\n",
    "current_index = 0\n",
    "positive_tokenized = []\n",
    "negative_tokenized = []\n",
    "orig_reviews = []"
   ]
  },
  {
   "cell_type": "code",
   "execution_count": 50,
   "metadata": {},
   "outputs": [
    {
     "name": "stdout",
     "output_type": "stream",
     "text": [
      "len(word_index_map): 18162\n"
     ]
    }
   ],
   "source": [
    "#Create dictionary for word count --> word_count_map from positive and negative reviews\n",
    "for review in positive_reviews:\n",
    "    orig_reviews.append(review)\n",
    "    tokens = my_tokenizer(review)\n",
    "    positive_tokenized.append(tokens)\n",
    "    for token in tokens:\n",
    "        if token not in word_index_map:\n",
    "            word_index_map[token] = current_index\n",
    "            current_index += 1\n",
    "\n",
    "for review in negative_reviews:\n",
    "    orig_reviews.append(review)\n",
    "    tokens = my_tokenizer(review)\n",
    "    negative_tokenized.append(tokens)\n",
    "    for token in tokens:\n",
    "        if token not in word_index_map:\n",
    "            word_index_map[token] = current_index\n",
    "            current_index += 1\n",
    "\n",
    "print(\"len(word_index_map):\", len(word_index_map))"
   ]
  },
  {
   "cell_type": "code",
   "execution_count": 51,
   "metadata": {},
   "outputs": [],
   "source": [
    "# Creation our input matrices by converting tokens to vector\n",
    "def tokens_to_vector(tokens, label):\n",
    "    x = np.zeros(len(word_index_map) + 1) # last element is for the label\n",
    "    for t in tokens:\n",
    "        i = word_index_map[t]\n",
    "        x[i] += 1\n",
    "    x = x / x.sum() # normalize it before setting label\n",
    "    x[-1] = label\n",
    "    return x"
   ]
  },
  {
   "cell_type": "code",
   "execution_count": 52,
   "metadata": {},
   "outputs": [],
   "source": [
    "N = len(positive_tokenized) + len(negative_tokenized)\n",
    "# (N x D+1 matrix - keeping them together for now so we can shuffle more easily later\n",
    "data = np.zeros((N, len(word_index_map) + 1))\n",
    "i = 0\n",
    "\n",
    "for tokens in positive_tokenized:\n",
    "    xy = tokens_to_vector(tokens, 1)\n",
    "    data[i,:] = xy\n",
    "    i += 1\n",
    "\n",
    "for tokens in negative_tokenized:\n",
    "    xy = tokens_to_vector(tokens, 0)\n",
    "    data[i,:] = xy\n",
    "    i += 1"
   ]
  },
  {
   "cell_type": "code",
   "execution_count": 53,
   "metadata": {},
   "outputs": [],
   "source": [
    "#train and test feature selection\n",
    "X = data[:,:-1]\n",
    "Y = data[:,-1]"
   ]
  },
  {
   "cell_type": "code",
   "execution_count": null,
   "metadata": {},
   "outputs": [],
   "source": []
  },
  {
   "cell_type": "code",
   "execution_count": 54,
   "metadata": {},
   "outputs": [],
   "source": [
    "# Apply machine learning algrithms for data mining\n",
    "\n",
    "# Function for evaluating the model\n",
    "def evaluate(y_test, y_predict):\n",
    "    cf_matrix = confusion_matrix(y_test,y_predict)\n",
    "    sns.heatmap(cf_matrix, annot = True, fmt = 'd',cmap=\"Blues\")\n",
    "    plt.title('Heatmap of confusion matrix for Test data')\n",
    "    plt.ylabel('True label')\n",
    "    plt.xlabel('Predicted label')\n",
    "\n",
    "    print(\"Precision Score: \", precision_score(y_test,y_predict)*100)\n",
    "    print(\"Recall Score: \", recall_score(y_test,y_predict)*100)\n",
    "    print(\"Acuracy score: \",accuracy_score(y_test,y_predict)*100)\n",
    "    print(\"F1 score: \",f1_score(y_test,y_predict)*100)"
   ]
  },
  {
   "cell_type": "code",
   "execution_count": 55,
   "metadata": {},
   "outputs": [
    {
     "name": "stdout",
     "output_type": "stream",
     "text": [
      "\n",
      "Classification Algotithm - LOGISTIC REGRESSION\n",
      "Precision Score:  77.31277533039648\n",
      "Recall Score:  76.13882863340564\n",
      "Acuracy score:  77.8125\n",
      "F1 score:  76.72131147540982\n"
     ]
    },
    {
     "data": {
      "image/png": "[encoded data removed]",
      "text/plain": [
       "<Figure size 432x288 with 2 Axes>"
      ]
     },
     "metadata": {
      "needs_background": "light"
     },
     "output_type": "display_data"
    }
   ],
   "source": [
    "#Classification using Logistic Regrassion\n",
    "X_train, X_test, y_train, y_test = train_test_split(X, Y, test_size=0.3)\n",
    "from sklearn.linear_model import LogisticRegression\n",
    "lr = LogisticRegression(multi_class='multinomial', tol=1e-2, solver='newton-cg', max_iter=15)\n",
    "lr.fit(X_train, y_train)\n",
    "y_predict = lr.predict(X_test)\n",
    "\n",
    "print(\"\\nClassification Algotithm - LOGISTIC REGRESSION\")\n",
    "evaluate(y_test, y_predict)"
   ]
  },
  {
   "cell_type": "code",
   "execution_count": 56,
   "metadata": {},
   "outputs": [
    {
     "name": "stdout",
     "output_type": "stream",
     "text": [
      "\n",
      "Classification Algotithm - SVC\n",
      "Precision Score:  92.85714285714286\n",
      "Recall Score:  80.60000000000001\n",
      "Acuracy score:  86.66666666666667\n",
      "F1 score:  86.29550321199144\n"
     ]
    },
    {
     "data": {
      "image/png": "[encoded data removed]",
      "text/plain": [
       "<Figure size 432x288 with 2 Axes>"
      ]
     },
     "metadata": {
      "needs_background": "light"
     },
     "output_type": "display_data"
    }
   ],
   "source": [
    "#Classification using SUPPORT VECTOR MACHINE\n",
    "X_train, X_test, y_train, y_test = train_test_split(X, Y, test_size=0.3)\n",
    "from sklearn import svm\n",
    "clf = svm.SVC(gamma=2, C=2)\n",
    "clf.fit(X_train, y_train)\n",
    "y_predict = clf.predict(X_test)\n",
    "print(\"\\nClassification Algotithm - SVC\")\n",
    "evaluate(y_test, y_predict)"
   ]
  },
  {
   "cell_type": "code",
   "execution_count": 57,
   "metadata": {},
   "outputs": [
    {
     "name": "stdout",
     "output_type": "stream",
     "text": [
      "\n",
      "Classification Algotithm - DECISION TREE\n",
      "Precision Score:  74.72527472527473\n",
      "Recall Score:  72.1868365180467\n",
      "Acuracy score:  74.375\n",
      "F1 score:  73.4341252699784\n"
     ]
    },
    {
     "data": {
      "image/png": "[encoded data removed]",
      "text/plain": [
       "<Figure size 432x288 with 2 Axes>"
      ]
     },
     "metadata": {
      "needs_background": "light"
     },
     "output_type": "display_data"
    }
   ],
   "source": [
    "#Classification using DECISION TREE\n",
    "X_train, X_test, y_train, y_test = train_test_split(X, Y, test_size=0.3)\n",
    "from sklearn import tree\n",
    "dt = tree.DecisionTreeClassifier(max_depth=25)\n",
    "dt.fit(X_train, y_train)\n",
    "y_predict = dt.predict(X_test)\n",
    "print(\"\\nClassification Algotithm - DECISION TREE\")\n",
    "evaluate(y_test, y_predict)"
   ]
  },
  {
   "cell_type": "code",
   "execution_count": 58,
   "metadata": {},
   "outputs": [
    {
     "name": "stdout",
     "output_type": "stream",
     "text": [
      "\n",
      "Classification Algotithm - NAIVE BAYES\n",
      "Precision Score:  66.4190193164933\n",
      "Recall Score:  99.33333333333333\n",
      "Acuracy score:  76.14583333333333\n",
      "F1 score:  79.60819234194123\n"
     ]
    },
    {
     "data": {
      "image/png": "[encoded data removed]",
      "text/plain": [
       "<Figure size 432x288 with 2 Axes>"
      ]
     },
     "metadata": {
      "needs_background": "light"
     },
     "output_type": "display_data"
    }
   ],
   "source": [
    "#Classification using NAIVE BAYES\n",
    "X_train, X_test, y_train, y_test = train_test_split(X, Y, test_size=0.3)\n",
    "from sklearn.naive_bayes import MultinomialNB\n",
    "nb = MultinomialNB()\n",
    "nb.fit(X_train, y_train)\n",
    "y_predict = nb.predict(X_test)\n",
    "print(\"\\nClassification Algotithm - NAIVE BAYES\")\n",
    "evaluate(y_test, y_predict)"
   ]
  },
  {
   "cell_type": "code",
   "execution_count": null,
   "metadata": {},
   "outputs": [],
   "source": []
  }
 ],
 "metadata": {
  "kernelspec": {
   "display_name": "Python 3",
   "language": "python",
   "name": "python3"
  },
  "language_info": {
   "codemirror_mode": {
    "name": "ipython",
    "version": 3
   },
   "file_extension": ".py",
   "mimetype": "text/x-python",
   "name": "python",
   "nbconvert_exporter": "python",
   "pygments_lexer": "ipython3",
   "version": "3.8.5"
  }
 },
 "nbformat": 4,
 "nbformat_minor": 4
}
