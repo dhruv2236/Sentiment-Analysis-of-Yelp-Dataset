{
 "cells": [
  {
   "cell_type": "code",
   "execution_count": 5,
   "metadata": {},
   "outputs": [],
   "source": [
    "import json \n",
    "import re\n",
    "from nltk.tokenize import word_tokenize\n",
    "from nltk.corpus import stopwords\n",
    "import pandas as pd\n",
    "\n",
    "data = [json.loads(line) for line in open(\"C:/Users/Rikul/Desktop/Data Mining/Data Mining Project/archive/yelp_academic_dataset_review.json\", \"r\", encoding=\"utf8\", errors=\"ignore\")] "
   ]
  },
  {
   "cell_type": "code",
   "execution_count": 6,
   "metadata": {},
   "outputs": [],
   "source": [
    "true = 0\n",
    "false = 0\n",
    "total = 0\n",
    "\n",
    "full_negative = 0\n",
    "full_neutral  = 0\n",
    "full_positive = 0\n",
    "\n",
    "positive = []\n",
    "with open(\"C:/Users/Rikul/Desktop/positive-words.txt\",'r') as f:\n",
    "    q = f.read().split()\n",
    "    for i in q:\n",
    "        positive.append(i)\n",
    "        commmon_positive = set(q)\n",
    "\n",
    "\n",
    "negative = []\n",
    "with open(\"C:/Users/Rikul/Desktop/negative-words.txt\",'r') as f:\n",
    "    q_one = f.read().split()\n",
    "    for i in q_one:\n",
    "        negative.append(i)\n",
    "        commmon_negative = set(q_one)"
   ]
  },
  {
   "cell_type": "code",
   "execution_count": 7,
   "metadata": {},
   "outputs": [],
   "source": [
    "for i in range(1,10000):\n",
    "    abcd = []\n",
    "    abcd = data[i]['text']\n",
    "    abcd_stars = data[i]['stars']\n",
    "    abcd = abcd.lower()\n",
    "    abce = re.sub(r'\\d+', '',abcd) # remove numeric value\n",
    "    abcd = abcd.strip() # removed whitespace\n",
    "    abcd = re.sub(r'[^\\w\\s]','',abcd) #removed punctuations\n",
    "   \n",
    "\n",
    "    stop_words = set(stopwords.words('english')) # to remove english stop words\n",
    "    tokens = word_tokenize(abcd) #tokenizing whole file\n",
    "    result = [i for i in tokens if not i in stop_words]  # for stop words removal\n",
    "    check_one = set(result)\n",
    "\n",
    "    positive_test =  commmon_positive & check_one\n",
    "    negative_test =  commmon_negative & check_one  \n",
    "    \n",
    "    a = 0\n",
    "    for w1 in positive_test:\n",
    "        word1 = result.count(w1)\n",
    "        a = a + word1    \n",
    "\n",
    "    b = 0  \n",
    "    for w2 in negative_test:\n",
    "        word2 = result.count(w2)\n",
    "        b = b + word2\n",
    "        \n",
    "    if b > a:\n",
    "        full_negative = full_negative + 1 \n",
    "        if(abcd_stars == 1 or abcd_stars == 2):\n",
    "            true = true + 1\n",
    "            total = total + 1\n",
    "        else:\n",
    "            false =false + 1\n",
    "            total = total + 1\n",
    "    elif a == b:\n",
    "        full_neutral = full_neutral + 1 \n",
    "        if(abcd_stars == 3):\n",
    "            true = true + 1\n",
    "            total = total + 1\n",
    "        else:\n",
    "            false =false + 1\n",
    "            total = total + 1\n",
    "    else:\n",
    "        full_positive = full_positive + 1 \n",
    "        if(abcd_stars == 4 or abcd_stars == 5):\n",
    "            true = true + 1\n",
    "            total = total + 1\n",
    "        else:\n",
    "            false =false + 1\n",
    "            total = total + 1    "
   ]
  },
  {
   "cell_type": "code",
   "execution_count": 8,
   "metadata": {},
   "outputs": [
    {
     "name": "stdout",
     "output_type": "stream",
     "text": [
      "Sentiment score is Positive.\n"
     ]
    }
   ],
   "source": [
    "#StSc = (number of positive words - number of negative words) / total number of words\n",
    "sentiment_score = (true+false)/total\n",
    "\n",
    "if(sentiment_score>0):\n",
    "    print(\"Sentiment score is Positive.\")\n",
    "elif(sentiment_score<0):\n",
    "    print(\"Sentiment score is Negative.\")\n",
    "elif(sentiment_score == 0):\n",
    "    print(\"Sentiment score is Neutral.\")"
   ]
  },
  {
   "cell_type": "code",
   "execution_count": null,
   "metadata": {},
   "outputs": [],
   "source": []
  }
 ],
 "metadata": {
  "kernelspec": {
   "display_name": "Python 3",
   "language": "python",
   "name": "python3"
  },
  "language_info": {
   "codemirror_mode": {
    "name": "ipython",
    "version": 3
   },
   "file_extension": ".py",
   "mimetype": "text/x-python",
   "name": "python",
   "nbconvert_exporter": "python",
   "pygments_lexer": "ipython3",
   "version": "3.8.5"
  }
 },
 "nbformat": 4,
 "nbformat_minor": 4
}
