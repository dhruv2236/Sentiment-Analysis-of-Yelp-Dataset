{
 "cells": [
  {
   "cell_type": "code",
   "execution_count": 1,
   "metadata": {},
   "outputs": [],
   "source": [
    "import json\n",
    "data = [json.loads(line) for line in open(\"C:/Users/Rikul/Desktop/Data Mining/Data Mining Project/archive/yelp_academic_dataset_review.json\", \"r\", encoding=\"utf8\", errors=\"ignore\")]\n",
    "\n",
    "import math\n",
    "from nltk import sent_tokenize, word_tokenize, PorterStemmer\n",
    "from nltk.corpus import stopwords"
   ]
  },
  {
   "cell_type": "code",
   "execution_count": 2,
   "metadata": {},
   "outputs": [],
   "source": [
    "#This function finds the count of each word and creates frequency matrix for each word\n",
    "def frequency_table(sentences):\n",
    "    frequency_matrix = {}\n",
    "    stopWords = set(stopwords.words(\"english\"))\n",
    "    ps = PorterStemmer()\n",
    "    for sent in sentences:\n",
    "        freq_table = {}\n",
    "        words = word_tokenize(sent)\n",
    "        for word in words:\n",
    "            word = word.lower()\n",
    "            word = ps.stem(word)\n",
    "            if word in stopWords:\n",
    "                continue\n",
    "\n",
    "            if word in freq_table:\n",
    "                freq_table[word] += 1\n",
    "            else:\n",
    "                freq_table[word] = 1\n",
    "        frequency_matrix[sent[:15]] = freq_table\n",
    "    return frequency_matrix"
   ]
  },
  {
   "cell_type": "code",
   "execution_count": 3,
   "metadata": {},
   "outputs": [],
   "source": [
    "#This fucntion gets the word fequency matrix and make TF matrix \n",
    "def get_tf_matrix(freq_matrix):\n",
    "    tf_matrix = {}\n",
    "    for sent, f_table in freq_matrix.items():\n",
    "        tf_table = {}\n",
    "        count_words_in_sentence = len(f_table)\n",
    "        for word, count in f_table.items():\n",
    "            tf_table[word] = count / count_words_in_sentence\n",
    "        tf_matrix[sent] = tf_table\n",
    "    return tf_matrix"
   ]
  },
  {
   "cell_type": "code",
   "execution_count": 4,
   "metadata": {},
   "outputs": [],
   "source": [
    "#This function creates word per document table which will be used for IDF matrix creation\n",
    "def documents_per_words_count(freq_matrix):\n",
    "    word_per_doc_table = {}\n",
    "    for sent, f_table in freq_matrix.items():\n",
    "        for word, count in f_table.items():\n",
    "            if word in word_per_doc_table:\n",
    "                word_per_doc_table[word] += 1\n",
    "            else:\n",
    "                word_per_doc_table[word] = 1\n",
    "    return word_per_doc_table"
   ]
  },
  {
   "cell_type": "code",
   "execution_count": 5,
   "metadata": {},
   "outputs": [],
   "source": [
    "#This function uses the word per document table and gets other two parameters and finds IDF matrix\n",
    "def get_idf_matrix(freq_matrix, count_doc_per_words, total_documents):\n",
    "    idf_matrix = {}\n",
    "    for sent, f_table in freq_matrix.items():\n",
    "        idf_table = {}\n",
    "        for word in f_table.keys():\n",
    "            idf_table[word] = math.log10(total_documents / float(count_doc_per_words[word]))\n",
    "        idf_matrix[sent] = idf_table\n",
    "    return idf_matrix\n"
   ]
  },
  {
   "cell_type": "code",
   "execution_count": 6,
   "metadata": {},
   "outputs": [],
   "source": [
    "#This is simple multiplicaiton of TF matrix and IDF matrix to find TF-IDF scores for words\n",
    "def tf_idf_matrix_multiplication(tf_matrix, idf_matrix):\n",
    "    tf_idf_matrix = {}\n",
    "    for (sent1, f_table1), (sent2, f_table2) in zip(tf_matrix.items(), idf_matrix.items()):\n",
    "        tf_idf_table = {}\n",
    "        for (word1, value1), (word2, value2) in zip(f_table1.items(),                                                    f_table2.items()):  # here, keys are the same in both the table\n",
    "            tf_idf_table[word1] = float(value1 * value2)\n",
    "        tf_idf_matrix[sent1] = tf_idf_table\n",
    "    return tf_idf_matrix"
   ]
  },
  {
   "cell_type": "code",
   "execution_count": 7,
   "metadata": {},
   "outputs": [],
   "source": [
    "#Based on the TF-IDF score, each sentence will be valued\n",
    "def sentence_score(tf_idf_matrix) -> dict:\n",
    "    sentenceValue = {}\n",
    "    for sent, f_table in tf_idf_matrix.items():\n",
    "        total_score_per_sentence = 0\n",
    "        count_words_in_sentence = len(f_table)\n",
    "        for word, score in f_table.items():\n",
    "            total_score_per_sentence += score\n",
    "        sentenceValue[sent] = total_score_per_sentence / count_words_in_sentence\n",
    "    return sentenceValue"
   ]
  },
  {
   "cell_type": "code",
   "execution_count": 8,
   "metadata": {},
   "outputs": [],
   "source": [
    "#Find the average score - define as threashold\n",
    "def _find_average_score(sentenceValue) -> int:\n",
    "    sumValues = 0\n",
    "    for entry in sentenceValue:\n",
    "        sumValues += sentenceValue[entry]\n",
    "    # Average value of a sentence from original summary_text\n",
    "    average = (sumValues / len(sentenceValue))\n",
    "    return average"
   ]
  },
  {
   "cell_type": "code",
   "execution_count": 9,
   "metadata": {},
   "outputs": [],
   "source": [
    "#This function gets each sentence, its value and threashold and generate the summary\n",
    "def summary(sentences, sentenceValue, threshold):\n",
    "    sentence_count = 0\n",
    "    summary = ''\n",
    "    for sentence in sentences:\n",
    "        if sentence[:15] in sentenceValue and sentenceValue[sentence[:15]] >= (threshold):\n",
    "            summary += \" \" + sentence\n",
    "            sentence_count += 1\n",
    "    return summary"
   ]
  },
  {
   "cell_type": "code",
   "execution_count": 10,
   "metadata": {},
   "outputs": [],
   "source": [
    "#This fucntion calls each supporting function to generate summary\n",
    "def run_summarization(text):\n",
    "    sentences = sent_tokenize(text)\n",
    "    total_documents = len(sentences)\n",
    "    freq_matrix = frequency_table(sentences)\n",
    "    tf_matrix = get_tf_matrix(freq_matrix)\n",
    "    count_doc_per_words = documents_per_words_count(freq_matrix)\n",
    "    idf_matrix = get_idf_matrix(freq_matrix, count_doc_per_words, total_documents)\n",
    "    tf_idf_matrix = tf_idf_matrix_multiplication(tf_matrix, idf_matrix)\n",
    "    sentence_scores = sentence_score(tf_idf_matrix)\n",
    "    threshold = _find_average_score(sentence_scores)\n",
    "    summaryValue = summary(sentences, sentence_scores, 1.0 * threshold)\n",
    "    return summaryValue"
   ]
  },
  {
   "cell_type": "code",
   "execution_count": 11,
   "metadata": {},
   "outputs": [
    {
     "name": "stdout",
     "output_type": "stream",
     "text": [
      " I love the Brewpub for their variety of dishes. Nachos, pizza and sandwiches. I think it's just the pace of the restaurant. Kid and dog friendly environment. Also great for your vegetarian and vegan friends.\n"
     ]
    }
   ],
   "source": [
    "#If you wanna get the summaried text, run me\n",
    "if __name__ == '__main__':\n",
    "    result = run_summarization(data[55]['text'])\n",
    "    print(result)"
   ]
  },
  {
   "cell_type": "code",
   "execution_count": null,
   "metadata": {},
   "outputs": [],
   "source": []
  }
 ],
 "metadata": {
  "kernelspec": {
   "display_name": "Python 3",
   "language": "python",
   "name": "python3"
  },
  "language_info": {
   "codemirror_mode": {
    "name": "ipython",
    "version": 3
   },
   "file_extension": ".py",
   "mimetype": "text/x-python",
   "name": "python",
   "nbconvert_exporter": "python",
   "pygments_lexer": "ipython3",
   "version": "3.8.5"
  }
 },
 "nbformat": 4,
 "nbformat_minor": 4
}
